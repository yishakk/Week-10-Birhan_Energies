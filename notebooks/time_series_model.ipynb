{
 "cells": [
  {
   "cell_type": "code",
   "execution_count": 5,
   "metadata": {},
   "outputs": [],
   "source": [
    "import os, sys\n",
    "notebook_dir = os.getcwd()\n",
    "sys.path.append(os.path.abspath(os.path.join(notebook_dir,'..')))"
   ]
  },
  {
   "cell_type": "code",
   "execution_count": null,
   "metadata": {},
   "outputs": [],
   "source": [
    "import matplotlib.pyplot as plt\n",
    "from statsmodels.tsa.arima.model import ARIMA\n",
    "from sklearn.metrics import mean_absolute_error\n",
    "from statsmodels.tsa.api import VAR\n",
    "import pandas as pd\n",
    "from statsmodels.tsa.regime_switching.markov_autoregression import MarkovAutoregression\n",
    "from tensorflow.keras.models import Sequential\n",
    "from tensorflow.keras.layers import LSTM, Dense\n",
    "import numpy as np"
   ]
  },
  {
   "cell_type": "code",
   "execution_count": null,
   "metadata": {},
   "outputs": [],
   "source": [
    "data = pd.read_csv(\"../data/BrentOilPrices.csv\", parse_dates=['Date'])"
   ]
  },
  {
   "cell_type": "code",
   "execution_count": null,
   "metadata": {},
   "outputs": [],
   "source": [
    "# Prepare multivariate data\n",
    "data_multivariate = data[['Price', 'GDP', 'Inflation', 'Exchange_Rate']]  # Replace with actual columns\n",
    "data_multivariate = data_multivariate.dropna()\n",
    "\n",
    "# Fit VAR model\n",
    "model_var = VAR(data_multivariate)\n",
    "results_var = model_var.fit(maxlags=5)\n",
    "\n",
    "# Forecast\n",
    "lag_order = results_var.k_ar\n",
    "forecast_var = results_var.forecast(data_multivariate.values[-lag_order:], steps=12)\n",
    "print(forecast_var)"
   ]
  },
  {
   "cell_type": "code",
   "execution_count": null,
   "metadata": {},
   "outputs": [],
   "source": [
    "# Fit Markov-Switching ARIMA\n",
    "model_ms = MarkovAutoregression(data['Price'], k_regimes=2, order=(1, 1, 1))\n",
    "results_ms = model_ms.fit()\n",
    "\n",
    "# Print summary\n",
    "print(results_ms.summary())"
   ]
  },
  {
   "cell_type": "code",
   "execution_count": null,
   "metadata": {},
   "outputs": [],
   "source": [
    "# Prepare data for LSTM\n",
    "def create_dataset(data, look_back=30):\n",
    "    X, y = [], []\n",
    "    for i in range(len(data) - look_back):\n",
    "        X.append(data[i:(i + look_back)])\n",
    "        y.append(data[i + look_back])\n",
    "    return np.array(X), np.array(y)\n",
    "\n",
    "X, y = create_dataset(data['Price'].values)\n",
    "X = X.reshape((X.shape[0], X.shape[1], 1))\n",
    "\n",
    "# Build LSTM model\n",
    "model_lstm = Sequential()\n",
    "model_lstm.add(LSTM(50, input_shape=(X.shape[1], 1)))\n",
    "model_lstm.add(Dense(1))\n",
    "model_lstm.compile(loss='mean_squared_error', optimizer='adam')\n",
    "\n",
    "# Train the model\n",
    "model_lstm.fit(X, y, epochs=100, batch_size=32, verbose=2)"
   ]
  }
 ],
 "metadata": {
  "kernelspec": {
   "display_name": ".env",
   "language": "python",
   "name": "python3"
  },
  "language_info": {
   "codemirror_mode": {
    "name": "ipython",
    "version": 3
   },
   "file_extension": ".py",
   "mimetype": "text/x-python",
   "name": "python",
   "nbconvert_exporter": "python",
   "pygments_lexer": "ipython3",
   "version": "3.10.0"
  }
 },
 "nbformat": 4,
 "nbformat_minor": 2
}
